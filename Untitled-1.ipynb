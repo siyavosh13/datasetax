{
 "cells": [
  {
   "cell_type": "code",
   "execution_count": 1,
   "id": "c80a62a2",
   "metadata": {},
   "outputs": [],
   "source": [
    "import tensorflow as tf\n",
    "from keras import datasets,layers,models\n",
    "import matplotlib.pyplot as plt\n",
    "%matplotlib widget"
   ]
  },
  {
   "cell_type": "code",
   "execution_count": 9,
   "id": "c39917dc",
   "metadata": {},
   "outputs": [],
   "source": [
    "(train_images, train_labels), (test_images, test_labels) = datasets.cifar10.load_data()\n",
    "\n",
    "# Normalize pixel values to be between 0 and 1 \n",
    "train_images, test_images = train_images / 255.0, test_images / 255.0"
   ]
  },
  {
   "cell_type": "code",
   "execution_count": 10,
   "id": "7a91867d",
   "metadata": {},
   "outputs": [],
   "source": [
    "train_images,test_images=train_images/ 255.0 ,test_images/ 255.0"
   ]
  },
  {
   "cell_type": "code",
   "execution_count": 11,
   "id": "f7100d1a",
   "metadata": {},
   "outputs": [
    {
     "name": "stdout",
     "output_type": "stream",
     "text": [
      "(10000, 32, 32, 3)\n",
      "(50000, 32, 32, 3)\n"
     ]
    }
   ],
   "source": [
    "\n",
    "print(test_images.shape)\n",
    "print(train_images.shape)"
   ]
  },
  {
   "cell_type": "code",
   "execution_count": 12,
   "id": "33db6b4a",
   "metadata": {},
   "outputs": [],
   "source": [
    "class_names = ['airplane', 'automobile', 'bird', 'cat', 'deer',\n",
    "               'dog', 'frog', 'horse', 'ship', 'truck']\n"
   ]
  },
  {
   "cell_type": "code",
   "execution_count": 13,
   "id": "6c39f188",
   "metadata": {},
   "outputs": [
    {
     "data": {
      "text/plain": [
       "array([6], dtype=uint8)"
      ]
     },
     "execution_count": 13,
     "metadata": {},
     "output_type": "execute_result"
    }
   ],
   "source": [
    "train_labels[0]"
   ]
  },
  {
   "cell_type": "code",
   "execution_count": 14,
   "id": "c51d9e59",
   "metadata": {},
   "outputs": [
    {
     "data": {
      "text/plain": [
       "'truck'"
      ]
     },
     "execution_count": 14,
     "metadata": {},
     "output_type": "execute_result"
    }
   ],
   "source": [
    "class_names[train_labels[1][0]]"
   ]
  },
  {
   "cell_type": "code",
   "execution_count": 15,
   "id": "616c9025",
   "metadata": {},
   "outputs": [
    {
     "data": {
      "application/vnd.jupyter.widget-view+json": {
       "model_id": "404b4ed12c084999a84ba84cafbe1335",
       "version_major": 2,
       "version_minor": 0
      },
      "image/png": "[encoded data removed]",
      "text/html": [
       "\n",
       "            <div style=\"display: inline-block;\">\n",
       "                <div class=\"jupyter-widgets widget-label\" style=\"text-align: center;\">\n",
       "                    Figure\n",
       "                </div>\n",
       "                <img src='data:image/png;base64,iVBORw0KGgoAAAANSUhEUgAAAoAAAAHgCAYAAAA10dzkAAAAOXRFWHRTb2Z0d2FyZQBNYXRwbG90bGliIHZlcnNpb24zLjcuNSwgaHR0cHM6Ly9tYXRwbG90bGliLm9yZy/xnp5ZAAAACXBIWXMAAA9hAAAPYQGoP6dpAAAeGklEQVR4nO3dfWxV93348Y95sEOLfal5sPF4qENaaEtgEk0cKy1ri8dDpSgEIiVpp5EOpWpm0IBm6aiWULRKrlJp67rR9I9J4Z866TKVRImUZBkpRtUMVeisNN1iBYsJIrDTonEvOMNB+OyPqlc/N9BQsO/5cb+vl3Qk33POvfkcnch56/jck5osy7IAACAZk/IeAACAyhKAAACJEYAAAIkRgAAAiRGAAACJEYAAAIkRgAAAiRGAAACJEYAAAIkRgAAAiRGAAACJEYAAAIkRgAAAiRGAAACJEYAAAIkRgAAAiRGAAACJEYAAAIkRgAAAiRGAAACJEYAAAIkRgAAAiRGAAACJEYAAAIkRgAAAiRGAAACJEYAAAIkRgAAAiRGAAACJEYAAAIkRgAAAiRGAAACJEYAAAIkRgAAAiRGAAACJEYAAAIkRgAAAiRGAAACJEYAAAIkRgAAAiRGAAACJEYAAAIkRgAAAiRGAAACJEYAAAIkRgAAAiRGAAACJEYAAAIkRgAAAiRGAAACJEYAAAIkRgAAAiRGAAACJEYAAAIkRgAAAiRGAAACJmZL3AFyfRkdH4+TJk1FfXx81NTV5jwPA7ynLsjh79my0tLTEpEmuB6VGAHJVTp48GfPnz897DACu0YkTJ2LevHl5j0GFSf7E7dmzJz784Q/HDTfcEG1tbfHTn/70it5XX18/wZMBUAl+n6dJACbshz/8YezYsSN27doVP/vZz2L58uWxZs2aePvtt9/3vf7sC1Ad/D5PU02WZVneQ5CPtra2uOWWW+If//EfI+LX9/XNnz8/tm7dGn/1V3/1O99bKpWiUChUYkwAJlCxWIyGhoa8x6DCXAFM1LvvvhtHjhyJjo6O8rpJkyZFR0dH9Pb2vmf/kZGRKJVKYxYA4PokABP1q1/9Ki5evBhNTU1j1jc1NcXg4OB79u/q6opCoVBefAEEAK5fApArsnPnzigWi+XlxIkTeY8EAFwlj4FJ1KxZs2Ly5MkxNDQ0Zv3Q0FA0Nze/Z/+6urqoq6ur1HgAwARyBTBRtbW1sWLFiti/f3953ejoaOzfvz/a29tznAwAmGiuACZsx44dsWnTpvjkJz8Zt956a3znO9+J4eHh+NKXvpT3aADABBKACbvnnnvil7/8ZTz66KMxODgYf/iHfxgvvvjie74YAgBUF88B5Kp4DiBAdfAcwDS5BxAAIDECEAAgMQIQACAxAhAAIDECEAAgMQIQACAxAhAAIDECEAAgMQIQACAxAhAAIDECEAAgMQIQACAxAhAAIDECEAAgMQIQACAxAhAAIDECEAAgMQIQACAxAhAAIDECEAAgMQIQACAxAhAAIDECEAAgMQIQACAxAhAAIDECEAAgMQIQACAxAhAAIDECEAAgMQIQACAxAhAAIDECEAAgMQIQACAxAhAAIDECEAAgMQIQACAxAhAAIDECEAAgMQIQACAxAhAAIDECEAAgMQIQACAxAhAAIDECEAAgMQIQACAxAhAAIDECEAAgMQIwUd/4xjeipqZmzLJkyZK8xwIAKmBK3gOQn0984hPxb//2b+XXU6b41wEAUuC/+AmbMmVKNDc35z0GAFBh/gScsDfffDNaWlrixhtvjC9+8Ytx/Pjxy+47MjISpVJpzAIAXJ8EYKLa2tpi79698eKLL8bjjz8ex44di09/+tNx9uzZS+7f1dUVhUKhvMyfP7/CEwMA46Umy7Is7yHI35kzZ2LhwoXxt3/7t7F58+b3bB8ZGYmRkZHy61KpJAIBqkCxWIyGhoa8x6DC3ANIRETMmDEjPvrRj8bRo0cvub2uri7q6uoqPBUAMBH8CZiIiDh37lwMDAzE3Llz8x4FAJhgAjBRDz30UPT09MR///d/x7//+7/HXXfdFZMnT4777rsv79EAgAnmT8CJeuutt+K+++6L06dPx+zZs+NTn/pUHDp0KGbPnp33aADABPMlEK5KqVSKQqGQ9xgAXCNfAkmTPwEDACRGAAIAJEYAAgAkRgACACRGAAIAJEYAAgAkRgACACRGAAIAJEYAAgAkRgACACRGAAIAJEYAAgAkRgACACRGAAIAJEYAAgAkRgACACRGAAIAJEYAAgAkRgACACRGAAIAJEYAAgAkRgACACRGAAIAJEYAAgAkRgACACRGAAIAJEYAAgAkRgACACRGAAIAJEYAAgAkRgACACRGAAIAJEYAAgAkRgACACRGAAIAJEYAAgAkRgACACRGAAIAJEYAAgAkRgACACRGAAIAJEYAAgAkRgACACRGAAIAJEYAAgAkRgACACRGAFahgwcPxh133BEtLS1RU1MTzzzzzJjtWZbFo48+GnPnzo1p06ZFR0dHvPnmm/kMCwBUnACsQsPDw7F8+fLYs2fPJbc/9thj8d3vfje+//3vx+HDh+ODH/xgrFmzJs6fP1/hSQGAPNRkWZblPQQTp6amJvbt2xfr16+PiF9f/WtpaYmvfvWr8dBDD0VERLFYjKampti7d2/ce++9V/S5pVIpCoXCRI0NQIUUi8VoaGjIewwqzBXAxBw7diwGBwejo6OjvK5QKERbW1v09vbmOBkAUClT8h6AyhocHIyIiKampjHrm5qaytsuZWRkJEZGRsqvS6XSxAwIAEw4VwC5Il1dXVEoFMrL/Pnz8x4JALhKAjAxzc3NERExNDQ0Zv3Q0FB526Xs3LkzisVieTlx4sSEzgkATBwBmJjW1tZobm6O/fv3l9eVSqU4fPhwtLe3X/Z9dXV10dDQMGYBAK5P7gGsQufOnYujR4+WXx87diz6+vqisbExFixYENu2bYtvfvOb8ZGPfCRaW1vjkUceiZaWlvI3hQGA6iYAq9Crr74an/3sZ8uvd+zYERERmzZtir1798bDDz8cw8PD8eUvfznOnDkTn/rUp+LFF1+MG264Ia+RAYAK8hxArornAAJUB88BTJN7AAEAEiMAAQASIwABABIjAAEAEiMAAQASIwABABIjAAEAEiMAAQASIwABABIjAAEAEiMAAQASIwABABIjAAEAEiMAAQASIwABABIjAAEAEiMAAQASIwABABIjAAEAEiMAAQASIwABABIjAAEAEiMAAQASIwABABIjAAEAEiMAAQASIwABABIjAAEAEiMAAQASIwABABIjAAEAEiMAAQASIwABABIjAAEAEiMAAQASIwABABIjAAEAEiMAAQASIwABABIjAAEAEiMAAQASIwABABIjAAEAEiMAAQASIwABABIjAAEAEiMAAQASIwCr0MGDB+OOO+6IlpaWqKmpiWeeeWbM9vvvvz9qamrGLGvXrs1nWACg4gRgFRoeHo7ly5fHnj17LrvP2rVr49SpU+XlySefrOCEAECepuQ9AONv3bp1sW7dut+5T11dXTQ3N1doIgDg/yeuACbqwIEDMWfOnFi8eHE8+OCDcfr06bxHAgAqxBXABK1duzY2bNgQra2tMTAwEF//+tdj3bp10dvbG5MnT77ke0ZGRmJkZKT8ulQqVWpcAGCcCcAE3XvvveWfb7755li2bFksWrQoDhw4EKtWrbrke7q6umL37t2VGhEAmED+BEzceOONMWvWrDh69Ohl99m5c2cUi8XycuLEiQpOCACMJ1cAibfeeitOnz4dc+fOvew+dXV1UVdXV8GpAICJIgCr0Llz58ZczTt27Fj09fVFY2NjNDY2xu7du2Pjxo3R3NwcAwMD8fDDD8dNN90Ua9asyXFqAKBSarIsy/IegvF14MCB+OxnP/ue9Zs2bYrHH3881q9fH//xH/8RZ86ciZaWlli9enX8zd/8TTQ1NV3xP6NUKkWhUBjPsQHIQbFYjIaGhrzHoMIEIFdFAAJUBwGYJl8CAQBIjAAEAEiMAAQASIwABABIjAAEAEiMAAQASIwABABIjAAEAEiMAAQASIwABABIjAAEAEiMAAQASIwABABIjAAEAEiMAAQASIwABABIjAAEAEiMAAQASIwABABIjAAEAEiMAAQASIwABABIjAAEAEiMAAQASIwABABIjAAEAEiMAAQASIwABABIjAAEAEiMAAQASIwABABIjAAEAEiMAAQASIwABABIjAAEAEiMAAQASIwABABIjAAEAEiMAAQASIwABABIjAAEAEiMAAQASIwABABIjAAEAEiMAAQASIwABABIjAAEAEiMAKxCXV1dccstt0R9fX3MmTMn1q9fH/39/WP2OX/+fHR2dsbMmTNj+vTpsXHjxhgaGsppYgCgkgRgFerp6YnOzs44dOhQvPzyy3HhwoVYvXp1DA8Pl/fZvn17PPfcc/H0009HT09PnDx5MjZs2JDj1ABApdRkWZblPQQT65e//GXMmTMnenp6YuXKlVEsFmP27NnR3d0dd999d0REvPHGG/Gxj30sent747bbbnvfzyyVSlEoFCZ6dAAmWLFYjIaGhrzHoMJcAUxAsViMiIjGxsaIiDhy5EhcuHAhOjo6yvssWbIkFixYEL29vZf8jJGRkSiVSmMWAOD6JACr3OjoaGzbti1uv/32WLp0aUREDA4ORm1tbcyYMWPMvk1NTTE4OHjJz+nq6opCoVBe5s+fP9GjAwATRABWuc7Oznj99dfjqaeeuqbP2blzZxSLxfJy4sSJcZoQAKi0KXkPwMTZsmVLPP/883Hw4MGYN29eeX1zc3O8++67cebMmTFXAYeGhqK5ufmSn1VXVxd1dXUTPTIAUAGuAFahLMtiy5YtsW/fvnjllVeitbV1zPYVK1bE1KlTY//+/eV1/f39cfz48Whvb6/0uABAhbkCWIU6Ozuju7s7nn322aivry/f11coFGLatGlRKBRi8+bNsWPHjmhsbIyGhobYunVrtLe3X9E3gAGA65vHwFShmpqaS65/4okn4v7774+IXz8I+qtf/Wo8+eSTMTIyEmvWrInvfe97l/0T8G/zGBiA6uAxMGkSgFwVAQhQHQRgmtwDCACQGAEIAJAYAQgAkBgBCACQGAEIAJAYAQgAkBgBCACQGAEIAJAYAQgAkBgBCACQGAEIAJAYAQgAkBgBCACQGAEIAJAYAQgAkBgBCACQGAEIAJAYAQgAkBgBCACQGAEIAJAYAQgAkBgBCACQGAEIAJAYAQgAkBgBCACQGAEIAJAYAQgAkBgBCACQGAEIAJAYAQgAkBgBCACQGAEIAJAYAQgAkBgBCACQGAEIAJAYAQgAkBgBCACQGAEIAJAYAQgAkBgBCACQGAEIAJAYAQgAkBgBCACQGAEIAJAYAQgAkBgBCACQGAEIAJAYAViFurq64pZbbon6+vqYM2dOrF+/Pvr7+8fs85nPfCZqamrGLF/5yldymhgAqCQBWIV6enqis7MzDh06FC+//HJcuHAhVq9eHcPDw2P2e+CBB+LUqVPl5bHHHstpYgCgkqbkPQDj78UXXxzzeu/evTFnzpw4cuRIrFy5srz+Ax/4QDQ3N1d6PAAgZ64AJqBYLEZERGNj45j1P/jBD2LWrFmxdOnS2LlzZ7zzzjuX/YyRkZEolUpjFgDg+uQKYJUbHR2Nbdu2xe233x5Lly4tr//CF74QCxcujJaWlnjttdfia1/7WvT398ePfvSjS35OV1dX7N69u1JjAwATqCbLsizvIZg4Dz74YLzwwgvxk5/8JObNm3fZ/V555ZVYtWpVHD16NBYtWvSe7SMjIzEyMlJ+XSqVYv78+RMyMwCVUywWo6GhIe8xqDBXAKvYli1b4vnnn4+DBw/+zviLiGhra4uIuGwA1tXVRV1d3YTMCQBUlgCsQlmWxdatW2Pfvn1x4MCBaG1tfd/39PX1RUTE3LlzJ3g6ACBvArAKdXZ2Rnd3dzz77LNRX18fg4ODERFRKBRi2rRpMTAwEN3d3fH5z38+Zs6cGa+99lps3749Vq5cGcuWLct5egBgorkHsArV1NRccv0TTzwR999/f5w4cSL+5E/+JF5//fUYHh6O+fPnx1133RV//dd/fcX3gZRKpSgUCuM5NgA5cA9gmgQgV0UAAlQHAZgmzwEEAEiMAAQASIwABABIjAAEAEiMAAQASIwABABIjAAEAEiMAAQASIwABABIjAAEAEiMAAQASIwABABIjAAEAEiMAAQASIwABABIjAAEAEiMAAQASIwABABIjAAEAEiMAAQASIwABABIjAAEAEiMAAQASIwABABIjAAEAEiMAAQASIwABABIjAAEAEiMAAQASIwABABIjAAEAEiMAAQASIwABABIjAAEAEiMAAQASIwABABIjAAEAEiMAAQASIwABABIjAAEAEiMAAQASIwABABIjAAEAEiMAAQASIwABABIjAAEAEiMAKxCjz/+eCxbtiwaGhqioaEh2tvb44UXXihvP3/+fHR2dsbMmTNj+vTpsXHjxhgaGspxYgCgkgRgFZo3b15861vfiiNHjsSrr74an/vc5+LOO++MX/ziFxERsX379njuuefi6aefjp6enjh58mRs2LAh56kBgEqpybIsy3sIJl5jY2N8+9vfjrvvvjtmz54d3d3dcffdd0dExBtvvBEf+9jHore3N2677bYr+rxSqRSFQmEiRwagAorFYjQ0NOQ9BhXmCmCVu3jxYjz11FMxPDwc7e3tceTIkbhw4UJ0dHSU91myZEksWLAgent7c5wUAKiUKXkPwMT4+c9/Hu3t7XH+/PmYPn167Nu3Lz7+8Y9HX19f1NbWxowZM8bs39TUFIODg5f9vJGRkRgZGSm/LpVKEzU6ADDBXAGsUosXL46+vr44fPhwPPjgg7Fp06b4z//8z6v+vK6urigUCuVl/vz54zgtAFBJ7gFMREdHRyxatCjuueeeWLVqVfzP//zPmKuACxcujG3btsX27dsv+f5LXQEUgQDXP/cApskVwESMjo7GyMhIrFixIqZOnRr79+8vb+vv74/jx49He3v7Zd9fV1dXfqzMbxYA4PrkHsAqtHPnzli3bl0sWLAgzp49G93d3XHgwIF46aWXolAoxObNm2PHjh3R2NgYDQ0NsXXr1mhvb7/ibwADANc3AViF3n777fjTP/3TOHXqVBQKhVi2bFm89NJL8cd//McREfF3f/d3MWnSpNi4cWOMjIzEmjVr4nvf+17OUwMAleIeQK6K5wACVAf3AKbJPYAAAIkRgAAAiRGAAACJEYAAAIkRgAAAiRGAAACJEYAAAIkRgAAAiRGAAACJEYAAAIkRgFwV/wdBgOrg93maBCBX5ezZs3mPAMA48Ps8TTWZ9OcqjI6OxsmTJ6O+vj5qamrK60ulUsyfPz9OnDhR1f9z8RSOM4VjjHCc1SaF4xyvY8yyLM6ePRstLS0xaZLrQamZkvcAXJ8mTZoU8+bNu+z2hoaGqv3l+/9K4ThTOMYIx1ltUjjO8TjGQqEwTtNwvZH8AACJEYAAAIkRgIyrurq62LVrV9TV1eU9yoRK4ThTOMYIx1ltUjjOFI6RiedLIAAAiXEFEAAgMQIQACAxAhAAIDECEAAgMQKQcbNnz5748Ic/HDfccEO0tbXFT3/607xHGlff+MY3oqamZsyyZMmSvMe6ZgcPHow77rgjWlpaoqamJp555pkx27Msi0cffTTmzp0b06ZNi46OjnjzzTfzGfYavN9x3n///e85v2vXrs1n2KvU1dUVt9xyS9TX18ecOXNi/fr10d/fP2af8+fPR2dnZ8ycOTOmT58eGzdujKGhoZwmvjpXcpyf+cxn3nM+v/KVr+Q08dV5/PHHY9myZeUHPre3t8cLL7xQ3l4N55L8CEDGxQ9/+MPYsWNH7Nq1K372s5/F8uXLY82aNfH222/nPdq4+sQnPhGnTp0qLz/5yU/yHumaDQ8Px/Lly2PPnj2X3P7YY4/Fd7/73fj+978fhw8fjg9+8IOxZs2aOH/+fIUnvTbvd5wREWvXrh1zfp988skKTnjtenp6orOzMw4dOhQvv/xyXLhwIVavXh3Dw8PlfbZv3x7PPfdcPP3009HT0xMnT56MDRs25Dj17+9KjjMi4oEHHhhzPh977LGcJr468+bNi29961tx5MiRePXVV+Nzn/tc3HnnnfGLX/wiIqrjXJKjDMbBrbfemnV2dpZfX7x4MWtpacm6urpynGp87dq1K1u+fHneY0yoiMj27dtXfj06Opo1Nzdn3/72t8vrzpw5k9XV1WVPPvlkDhOOj98+zizLsk2bNmV33nlnLvNMlLfffjuLiKynpyfLsl+fu6lTp2ZPP/10eZ//+q//yiIi6+3tzWvMa/bbx5llWfZHf/RH2V/8xV/kN9QE+dCHPpT90z/9U9WeSyrHFUCu2bvvvhtHjhyJjo6O8rpJkyZFR0dH9Pb25jjZ+HvzzTejpaUlbrzxxvjiF78Yx48fz3ukCXXs2LEYHBwcc24LhUK0tbVV3bmNiDhw4EDMmTMnFi9eHA8++GCcPn0675GuSbFYjIiIxsbGiIg4cuRIXLhwYcz5XLJkSSxYsOC6Pp+/fZy/8YMf/CBmzZoVS5cujZ07d8Y777yTx3jj4uLFi/HUU0/F8PBwtLe3V+25pHKm5D0A179f/epXcfHixWhqahqzvqmpKd54442cphp/bW1tsXfv3li8eHGcOnUqdu/eHZ/+9Kfj9ddfj/r6+rzHmxCDg4MREZc8t7/ZVi3Wrl0bGzZsiNbW1hgYGIivf/3rsW7duujt7Y3JkyfnPd7vbXR0NLZt2xa33357LF26NCJ+fT5ra2tjxowZY/a9ns/npY4zIuILX/hCLFy4MFpaWuK1116Lr33ta9Hf3x8/+tGPcpz29/fzn/882tvb4/z58zF9+vTYt29ffPzjH4++vr6qO5dUlgCEK7Ru3bryz8uWLYu2trZYuHBh/PM//3Ns3rw5x8kYD/fee2/555tvvjmWLVsWixYtigMHDsSqVatynOzqdHZ2xuuvv14V96n+Lpc7zi9/+cvln2+++eaYO3durFq1KgYGBmLRokWVHvOqLV68OPr6+qJYLMa//Mu/xKZNm6KnpyfvsagC/gTMNZs1a1ZMnjz5Pd8+Gxoaiubm5pymmngzZsyIj370o3H06NG8R5kwvzl/qZ3biIgbb7wxZs2adV2e3y1btsTzzz8fP/7xj2PevHnl9c3NzfHuu+/GmTNnxux/vZ7Pyx3npbS1tUVEXHfns7a2Nm666aZYsWJFdHV1xfLly+Pv//7vq+5cUnkCkGtWW1sbK1asiP3795fXjY6Oxv79+6O9vT3HySbWuXPnYmBgIObOnZv3KBOmtbU1mpubx5zbUqkUhw8frupzGxHx1ltvxenTp6+r85tlWWzZsiX27dsXr7zySrS2to7ZvmLFipg6deqY89nf3x/Hjx+/rs7n+x3npfT19UVEXFfn81JGR0djZGSkas4l+fEnYMbFjh07YtOmTfHJT34ybr311vjOd74Tw8PD8aUvfSnv0cbNQw89FHfccUcsXLgwTp48Gbt27YrJkyfHfffdl/do1+TcuXNjroocO3Ys+vr6orGxMRYsWBDbtm2Lb37zm/GRj3wkWltb45FHHomWlpZYv359fkNfhd91nI2NjbF79+7YuHFjNDc3x8DAQDz88MNx0003xZo1a3Kc+vfT2dkZ3d3d8eyzz0Z9fX35XrBCoRDTpk2LQqEQmzdvjh07dkRjY2M0NDTE1q1bo729PW677bacp79y73ecAwMD0d3dHZ///Odj5syZ8dprr8X27dtj5cqVsWzZspynv3I7d+6MdevWxYIFC+Ls2bPR3d0dBw4ciJdeeqlqziU5yvtryFSPf/iHf8gWLFiQ1dbWZrfeemt26NChvEcaV/fcc082d+7crLa2NvuDP/iD7J577smOHj2a91jX7Mc//nEWEe9ZNm3alGXZrx8F88gjj2RNTU1ZXV1dtmrVqqy/vz/foa/C7zrOd955J1u9enU2e/bsbOrUqdnChQuzBx54IBscHMx77N/LpY4vIrInnniivM///u//Zn/+53+efehDH8o+8IEPZHfddVd26tSp/Ia+Cu93nMePH89WrlyZNTY2ZnV1ddlNN92U/eVf/mVWLBbzHfz39Gd/9mfZwoULs9ra2mz27NnZqlWrsn/9138tb6+Gc0l+arIsyyoZnAAA5Ms9gAAAiRGAAACJEYAAAIkRgAAAiRGAAACJEYAAAIkRgAAAiRGAAACJEYAAAIkRgAAAiRGAAACJEYAAAIkRgAAAiRGAAACJEYAAAIkRgAAAiRGAAACJEYAAAIkRgAAAiRGAAACJEYAAAIkRgAAAiRGAAACJEYAAAIkRgAAAiRGAAACJEYAAAIkRgAAAiRGAAACJEYAAAIkRgAAAifk/q1pFEv7D62sAAAAASUVORK5CYII=' width=640.0/>\n",
       "            </div>\n",
       "        "
      ],
      "text/plain": [
       "Canvas(toolbar=Toolbar(toolitems=[('Home', 'Reset original view', 'home', 'home'), ('Back', 'Back to previous …"
      ]
     },
     "metadata": {},
     "output_type": "display_data"
    }
   ],
   "source": [
    "plt.close()\n",
    "plt.imshow(train_images[4])\n",
    "plt.show()"
   ]
  },
  {
   "cell_type": "code",
   "execution_count": 16,
   "id": "d6e8e995",
   "metadata": {},
   "outputs": [],
   "source": [
    "model = models.Sequential()\n",
    "model.add(layers.Conv2D(32, (3, 3), activation='relu', input_shape=(32, 32, 3)))\n",
    "model.add(layers.MaxPooling2D((2, 2)))\n",
    "model.add(layers.Conv2D(64, (3, 3), activation='relu'))\n",
    "model.add(layers.MaxPooling2D((2, 2)))\n",
    "model.add(layers.Conv2D(64, (3, 3), activation='relu'))"
   ]
  },
  {
   "cell_type": "code",
   "execution_count": 17,
   "id": "8f7d96fe",
   "metadata": {},
   "outputs": [
    {
     "name": "stdout",
     "output_type": "stream",
     "text": [
      "Model: \"sequential\"\n",
      "_________________________________________________________________\n",
      " Layer (type)                Output Shape              Param #   \n",
      "=================================================================\n",
      " conv2d (Conv2D)             (None, 30, 30, 32)        896       \n",
      "                                                                 \n",
      " max_pooling2d (MaxPooling2  (None, 15, 15, 32)        0         \n",
      " D)                                                              \n",
      "                                                                 \n",
      " conv2d_1 (Conv2D)           (None, 13, 13, 64)        18496     \n",
      "                                                                 \n",
      " max_pooling2d_1 (MaxPoolin  (None, 6, 6, 64)          0         \n",
      " g2D)                                                            \n",
      "                                                                 \n",
      " conv2d_2 (Conv2D)           (None, 4, 4, 64)          36928     \n",
      "                                                                 \n",
      "=================================================================\n",
      "Total params: 56320 (220.00 KB)\n",
      "Trainable params: 56320 (220.00 KB)\n",
      "Non-trainable params: 0 (0.00 Byte)\n",
      "_________________________________________________________________\n"
     ]
    }
   ],
   "source": [
    "model.summary()"
   ]
  },
  {
   "cell_type": "code",
   "execution_count": 18,
   "id": "ae3d008f",
   "metadata": {},
   "outputs": [],
   "source": [
    "model.add(layers.Flatten())\n",
    "model.add(layers.Dense(64, activation='relu'))\n",
    "model.add(layers.Dense(10))"
   ]
  },
  {
   "cell_type": "code",
   "execution_count": 19,
   "id": "fcba6293",
   "metadata": {},
   "outputs": [
    {
     "name": "stdout",
     "output_type": "stream",
     "text": [
      "Model: \"sequential\"\n",
      "_________________________________________________________________\n",
      " Layer (type)                Output Shape              Param #   \n",
      "=================================================================\n",
      " conv2d (Conv2D)             (None, 30, 30, 32)        896       \n",
      "                                                                 \n",
      " max_pooling2d (MaxPooling2  (None, 15, 15, 32)        0         \n",
      " D)                                                              \n",
      "                                                                 \n",
      " conv2d_1 (Conv2D)           (None, 13, 13, 64)        18496     \n",
      "                                                                 \n",
      " max_pooling2d_1 (MaxPoolin  (None, 6, 6, 64)          0         \n",
      " g2D)                                                            \n",
      "                                                                 \n",
      " conv2d_2 (Conv2D)           (None, 4, 4, 64)          36928     \n",
      "                                                                 \n",
      " flatten (Flatten)           (None, 1024)              0         \n",
      "                                                                 \n",
      " dense (Dense)               (None, 64)                65600     \n",
      "                                                                 \n",
      " dense_1 (Dense)             (None, 10)                650       \n",
      "                                                                 \n",
      "=================================================================\n",
      "Total params: 122570 (478.79 KB)\n",
      "Trainable params: 122570 (478.79 KB)\n",
      "Non-trainable params: 0 (0.00 Byte)\n",
      "_________________________________________________________________\n"
     ]
    }
   ],
   "source": [
    "model.summary()"
   ]
  },
  {
   "cell_type": "code",
   "execution_count": 20,
   "id": "3cde4e96",
   "metadata": {},
   "outputs": [
    {
     "name": "stdout",
     "output_type": "stream",
     "text": [
      "Epoch 1/10\n",
      "1563/1563 [==============================] - 35s 21ms/step - loss: 2.3028 - accuracy: 0.0978 - val_loss: 2.3026 - val_accuracy: 0.1000\n",
      "Epoch 2/10\n",
      "1563/1563 [==============================] - 36s 23ms/step - loss: 2.3028 - accuracy: 0.0993 - val_loss: 2.3027 - val_accuracy: 0.1000\n",
      "Epoch 3/10\n",
      "1563/1563 [==============================] - 41s 26ms/step - loss: 2.3028 - accuracy: 0.0973 - val_loss: 2.3026 - val_accuracy: 0.1000\n",
      "Epoch 4/10\n",
      "1563/1563 [==============================] - 41s 26ms/step - loss: 2.3028 - accuracy: 0.0987 - val_loss: 2.3027 - val_accuracy: 0.1000\n",
      "Epoch 5/10\n",
      "1563/1563 [==============================] - 45s 29ms/step - loss: 2.3028 - accuracy: 0.0975 - val_loss: 2.3026 - val_accuracy: 0.1000\n",
      "Epoch 6/10\n",
      "1563/1563 [==============================] - 45s 29ms/step - loss: 2.3028 - accuracy: 0.0981 - val_loss: 2.3026 - val_accuracy: 0.1000\n",
      "Epoch 7/10\n",
      "1563/1563 [==============================] - 45s 29ms/step - loss: 2.3028 - accuracy: 0.0977 - val_loss: 2.3027 - val_accuracy: 0.1000\n",
      "Epoch 8/10\n",
      "1563/1563 [==============================] - 49s 31ms/step - loss: 2.3028 - accuracy: 0.0976 - val_loss: 2.3026 - val_accuracy: 0.1000\n",
      "Epoch 9/10\n",
      "1563/1563 [==============================] - 49s 31ms/step - loss: 2.3028 - accuracy: 0.0980 - val_loss: 2.3026 - val_accuracy: 0.1000\n",
      "Epoch 10/10\n",
      "1563/1563 [==============================] - 555s 356ms/step - loss: 2.3028 - accuracy: 0.0983 - val_loss: 2.3026 - val_accuracy: 0.1000\n"
     ]
    }
   ],
   "source": [
    "model.compile(optimizer='adam',\n",
    "              loss=tf.keras.losses.SparseCategoricalCrossentropy(from_logits=True),\n",
    "              metrics=['accuracy'])\n",
    "\n",
    "history = model.fit(train_images, train_labels, epochs=10, \n",
    "                    validation_data=(test_images, test_labels))"
   ]
  },
  {
   "cell_type": "code",
   "execution_count": 21,
   "id": "e61ece69",
   "metadata": {},
   "outputs": [
    {
     "data": {
      "application/vnd.jupyter.widget-view+json": {
       "model_id": "772aeb9c9fdb4685b47613c277d44ae9",
       "version_major": 2,
       "version_minor": 0
      },
      "image/png": "[encoded data removed]",
      "text/html": [
       "\n",
       "            <div style=\"display: inline-block;\">\n",
       "                <div class=\"jupyter-widgets widget-label\" style=\"text-align: center;\">\n",
       "                    Figure\n",
       "                </div>\n",
       "                <img src='data:image/png;base64,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' width=640.0/>\n",
       "            </div>\n",
       "        "
      ],
      "text/plain": [
       "Canvas(toolbar=Toolbar(toolitems=[('Home', 'Reset original view', 'home', 'home'), ('Back', 'Back to previous …"
      ]
     },
     "metadata": {},
     "output_type": "display_data"
    }
   ],
   "source": [
    "plt.close()\n",
    "plt.imshow(test_images[4])\n",
    "plt.show()"
   ]
  },
  {
   "cell_type": "code",
   "execution_count": 22,
   "id": "d62692bf",
   "metadata": {},
   "outputs": [
    {
     "name": "stdout",
     "output_type": "stream",
     "text": [
      "frog\n"
     ]
    }
   ],
   "source": [
    "print(class_names[test_labels[4][0]])"
   ]
  },
  {
   "cell_type": "code",
   "execution_count": 23,
   "id": "79124e7d",
   "metadata": {},
   "outputs": [
    {
     "name": "stdout",
     "output_type": "stream",
     "text": [
      "313/313 [==============================] - 2s 6ms/step\n"
     ]
    }
   ],
   "source": [
    "out=model.predict(test_images)"
   ]
  },
  {
   "cell_type": "code",
   "execution_count": 24,
   "id": "26c03ff1",
   "metadata": {},
   "outputs": [
    {
     "data": {
      "text/plain": [
       "array([ 0.0047518 , -0.00205447,  0.01024948, -0.00709211, -0.01280057,\n",
       "        0.00315363, -0.01303501,  0.00473825,  0.00310067, -0.02025909],\n",
       "      dtype=float32)"
      ]
     },
     "execution_count": 24,
     "metadata": {},
     "output_type": "execute_result"
    }
   ],
   "source": [
    "out[3]"
   ]
  },
  {
   "cell_type": "code",
   "execution_count": 25,
   "id": "7412467b",
   "metadata": {},
   "outputs": [
    {
     "name": "stdout",
     "output_type": "stream",
     "text": [
      "airplane\n",
      "bird\n"
     ]
    }
   ],
   "source": [
    "m=-1000\n",
    "o2=out[2]\n",
    "ind=-1\n",
    "for i in range(len(o2)):\n",
    "    if o2[i]>m:\n",
    "        m=o2[i]\n",
    "        ind=i\n",
    "        print(class_names[ind])"
   ]
  },
  {
   "cell_type": "code",
   "execution_count": 26,
   "id": "1ec4f6ad",
   "metadata": {},
   "outputs": [],
   "source": [
    "import cv2\n",
    "import numpy as np\n",
    "\n",
    "\n",
    "img=cv2.imread('aksasb.jpg')\n",
    "img=cv2.resize(img,(32,32))\n"
   ]
  },
  {
   "cell_type": "code",
   "execution_count": 27,
   "id": "e2e720f2",
   "metadata": {},
   "outputs": [
    {
     "data": {
      "text/plain": [
       "(32, 32, 3)"
      ]
     },
     "execution_count": 27,
     "metadata": {},
     "output_type": "execute_result"
    }
   ],
   "source": [
    "img.shape"
   ]
  },
  {
   "cell_type": "code",
   "execution_count": 28,
   "id": "d97da24c",
   "metadata": {},
   "outputs": [
    {
     "data": {
      "application/vnd.jupyter.widget-view+json": {
       "model_id": "8f4426e727ae4c2a8200dde08fd706c8",
       "version_major": 2,
       "version_minor": 0
      },
      "image/png": "[encoded data removed]",
      "text/html": [
       "\n",
       "            <div style=\"display: inline-block;\">\n",
       "                <div class=\"jupyter-widgets widget-label\" style=\"text-align: center;\">\n",
       "                    Figure\n",
       "                </div>\n",
       "                <img src='data:image/png;base64,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' width=640.0/>\n",
       "            </div>\n",
       "        "
      ],
      "text/plain": [
       "Canvas(toolbar=Toolbar(toolitems=[('Home', 'Reset original view', 'home', 'home'), ('Back', 'Back to previous …"
      ]
     },
     "metadata": {},
     "output_type": "display_data"
    }
   ],
   "source": [
    "plt.close()\n",
    "plt.imshow(img)\n",
    "plt.show()"
   ]
  },
  {
   "cell_type": "code",
   "execution_count": null,
   "id": "d3278e15",
   "metadata": {},
   "outputs": [],
   "source": []
  }
 ],
 "metadata": {
  "kernelspec": {
   "display_name": "Python 3",
   "language": "python",
   "name": "python3"
  },
  "language_info": {
   "codemirror_mode": {
    "name": "ipython",
    "version": 3
   },
   "file_extension": ".py",
   "mimetype": "text/x-python",
   "name": "python",
   "nbconvert_exporter": "python",
   "pygments_lexer": "ipython3",
   "version": "3.8.8"
  }
 },
 "nbformat": 4,
 "nbformat_minor": 5
}
